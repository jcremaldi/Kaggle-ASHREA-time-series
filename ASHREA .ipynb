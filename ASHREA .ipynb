{
 "cells": [
  {
   "cell_type": "code",
   "execution_count": 1,
   "metadata": {},
   "outputs": [],
   "source": [
    "# useful snippet for creating a more maneagable test set\n",
    "def create_short_raw():\n",
    "    raw_data = pd.read_csv(r'../New folder/data/train.csv')\n",
    "    \n",
    "    raw_data = raw_data[raw_data['building_id'].isin(random.sample(range(0, 1448), 5))]\n",
    "    raw_data.to_csv(r'../New folder/data/train_short.csv')"
   ]
  },
  {
   "cell_type": "code",
   "execution_count": null,
   "metadata": {},
   "outputs": [],
   "source": []
  }
 ],
 "metadata": {
  "kernelspec": {
   "display_name": "Python 3",
   "language": "python",
   "name": "python3"
  },
  "language_info": {
   "codemirror_mode": {
    "name": "ipython",
    "version": 3
   },
   "file_extension": ".py",
   "mimetype": "text/x-python",
   "name": "python",
   "nbconvert_exporter": "python",
   "pygments_lexer": "ipython3",
   "version": "3.7.1"
  }
 },
 "nbformat": 4,
 "nbformat_minor": 2
}
